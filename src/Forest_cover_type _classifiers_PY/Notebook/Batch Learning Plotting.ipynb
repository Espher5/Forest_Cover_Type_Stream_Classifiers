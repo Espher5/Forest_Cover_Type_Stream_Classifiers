{
 "cells": [
  {
   "cell_type": "code",
   "execution_count": 1,
   "metadata": {},
   "outputs": [],
   "source": [
    "import numpy as np\n",
    "import pandas as pd\n",
    "import matplotlib.pyplot as plt\n",
    "import warnings\n",
    "from sklearn import metrics\n",
    "from sklearn.ensemble import RandomForestClassifier\n",
    "from sklearn.model_selection import train_test_split, learning_curve, cross_val_score, KFold, ShuffleSplit, StratifiedKFold\n",
    "from sklearn.naive_bayes import GaussianNB\n",
    "from sklearn.neighbors import KNeighborsClassifier\n",
    "from sklearn.preprocessing import StandardScaler\n",
    "from sklearn.tree import DecisionTreeClassifier"
   ]
  },
  {
   "cell_type": "code",
   "execution_count": 2,
   "metadata": {},
   "outputs": [],
   "source": [
    "warnings.filterwarnings('ignore')\n",
    "data = pd.read_csv('covtype.csv')"
   ]
  },
  {
   "cell_type": "code",
   "execution_count": 3,
   "metadata": {},
   "outputs": [],
   "source": [
    "x = data.loc[:, 'Elevation' : 'Soil_Type40']\n",
    "y = data.loc[:, 'Cover_Type']"
   ]
  },
  {
   "cell_type": "code",
   "execution_count": 4,
   "metadata": {},
   "outputs": [],
   "source": [
    "features_to_remove = ['Hillshade_3pm','Soil_Type7','Soil_Type8',\n",
    "                     'Soil_Type14','Soil_Type15','Soil_Type21',\n",
    "                     'Soil_Type25','Soil_Type28','Soil_Type36','Soil_Type37']\n",
    "x.drop(features_to_remove, axis=1, inplace=True)"
   ]
  },
  {
   "cell_type": "code",
   "execution_count": 5,
   "metadata": {},
   "outputs": [
    {
     "data": {
      "text/html": [
       "<div>\n",
       "<style scoped>\n",
       "    .dataframe tbody tr th:only-of-type {\n",
       "        vertical-align: middle;\n",
       "    }\n",
       "\n",
       "    .dataframe tbody tr th {\n",
       "        vertical-align: top;\n",
       "    }\n",
       "\n",
       "    .dataframe thead th {\n",
       "        text-align: right;\n",
       "    }\n",
       "</style>\n",
       "<table border=\"1\" class=\"dataframe\">\n",
       "  <thead>\n",
       "    <tr style=\"text-align: right;\">\n",
       "      <th></th>\n",
       "      <th>Elevation</th>\n",
       "      <th>Aspect</th>\n",
       "      <th>Slope</th>\n",
       "      <th>Horizontal_Distance_To_Hydrology</th>\n",
       "      <th>Vertical_Distance_To_Hydrology</th>\n",
       "      <th>Horizontal_Distance_To_Roadways</th>\n",
       "      <th>Hillshade_9am</th>\n",
       "      <th>Hillshade_Noon</th>\n",
       "      <th>Horizontal_Distance_To_Fire_Points</th>\n",
       "      <th>Wilderness_Area1</th>\n",
       "      <th>...</th>\n",
       "      <th>Soil_Type29</th>\n",
       "      <th>Soil_Type30</th>\n",
       "      <th>Soil_Type31</th>\n",
       "      <th>Soil_Type32</th>\n",
       "      <th>Soil_Type33</th>\n",
       "      <th>Soil_Type34</th>\n",
       "      <th>Soil_Type35</th>\n",
       "      <th>Soil_Type38</th>\n",
       "      <th>Soil_Type39</th>\n",
       "      <th>Soil_Type40</th>\n",
       "    </tr>\n",
       "  </thead>\n",
       "  <tbody>\n",
       "    <tr>\n",
       "      <th>0</th>\n",
       "      <td>2596</td>\n",
       "      <td>51</td>\n",
       "      <td>3</td>\n",
       "      <td>258</td>\n",
       "      <td>0</td>\n",
       "      <td>510</td>\n",
       "      <td>221</td>\n",
       "      <td>232</td>\n",
       "      <td>6279</td>\n",
       "      <td>1</td>\n",
       "      <td>...</td>\n",
       "      <td>1</td>\n",
       "      <td>0</td>\n",
       "      <td>0</td>\n",
       "      <td>0</td>\n",
       "      <td>0</td>\n",
       "      <td>0</td>\n",
       "      <td>0</td>\n",
       "      <td>0</td>\n",
       "      <td>0</td>\n",
       "      <td>0</td>\n",
       "    </tr>\n",
       "    <tr>\n",
       "      <th>1</th>\n",
       "      <td>2590</td>\n",
       "      <td>56</td>\n",
       "      <td>2</td>\n",
       "      <td>212</td>\n",
       "      <td>-6</td>\n",
       "      <td>390</td>\n",
       "      <td>220</td>\n",
       "      <td>235</td>\n",
       "      <td>6225</td>\n",
       "      <td>1</td>\n",
       "      <td>...</td>\n",
       "      <td>1</td>\n",
       "      <td>0</td>\n",
       "      <td>0</td>\n",
       "      <td>0</td>\n",
       "      <td>0</td>\n",
       "      <td>0</td>\n",
       "      <td>0</td>\n",
       "      <td>0</td>\n",
       "      <td>0</td>\n",
       "      <td>0</td>\n",
       "    </tr>\n",
       "    <tr>\n",
       "      <th>2</th>\n",
       "      <td>2804</td>\n",
       "      <td>139</td>\n",
       "      <td>9</td>\n",
       "      <td>268</td>\n",
       "      <td>65</td>\n",
       "      <td>3180</td>\n",
       "      <td>234</td>\n",
       "      <td>238</td>\n",
       "      <td>6121</td>\n",
       "      <td>1</td>\n",
       "      <td>...</td>\n",
       "      <td>0</td>\n",
       "      <td>0</td>\n",
       "      <td>0</td>\n",
       "      <td>0</td>\n",
       "      <td>0</td>\n",
       "      <td>0</td>\n",
       "      <td>0</td>\n",
       "      <td>0</td>\n",
       "      <td>0</td>\n",
       "      <td>0</td>\n",
       "    </tr>\n",
       "    <tr>\n",
       "      <th>3</th>\n",
       "      <td>2785</td>\n",
       "      <td>155</td>\n",
       "      <td>18</td>\n",
       "      <td>242</td>\n",
       "      <td>118</td>\n",
       "      <td>3090</td>\n",
       "      <td>238</td>\n",
       "      <td>238</td>\n",
       "      <td>6211</td>\n",
       "      <td>1</td>\n",
       "      <td>...</td>\n",
       "      <td>0</td>\n",
       "      <td>1</td>\n",
       "      <td>0</td>\n",
       "      <td>0</td>\n",
       "      <td>0</td>\n",
       "      <td>0</td>\n",
       "      <td>0</td>\n",
       "      <td>0</td>\n",
       "      <td>0</td>\n",
       "      <td>0</td>\n",
       "    </tr>\n",
       "    <tr>\n",
       "      <th>4</th>\n",
       "      <td>2595</td>\n",
       "      <td>45</td>\n",
       "      <td>2</td>\n",
       "      <td>153</td>\n",
       "      <td>-1</td>\n",
       "      <td>391</td>\n",
       "      <td>220</td>\n",
       "      <td>234</td>\n",
       "      <td>6172</td>\n",
       "      <td>1</td>\n",
       "      <td>...</td>\n",
       "      <td>1</td>\n",
       "      <td>0</td>\n",
       "      <td>0</td>\n",
       "      <td>0</td>\n",
       "      <td>0</td>\n",
       "      <td>0</td>\n",
       "      <td>0</td>\n",
       "      <td>0</td>\n",
       "      <td>0</td>\n",
       "      <td>0</td>\n",
       "    </tr>\n",
       "  </tbody>\n",
       "</table>\n",
       "<p>5 rows × 44 columns</p>\n",
       "</div>"
      ],
      "text/plain": [
       "   Elevation  Aspect  Slope  Horizontal_Distance_To_Hydrology  \\\n",
       "0       2596      51      3                               258   \n",
       "1       2590      56      2                               212   \n",
       "2       2804     139      9                               268   \n",
       "3       2785     155     18                               242   \n",
       "4       2595      45      2                               153   \n",
       "\n",
       "   Vertical_Distance_To_Hydrology  Horizontal_Distance_To_Roadways  \\\n",
       "0                               0                              510   \n",
       "1                              -6                              390   \n",
       "2                              65                             3180   \n",
       "3                             118                             3090   \n",
       "4                              -1                              391   \n",
       "\n",
       "   Hillshade_9am  Hillshade_Noon  Horizontal_Distance_To_Fire_Points  \\\n",
       "0            221             232                                6279   \n",
       "1            220             235                                6225   \n",
       "2            234             238                                6121   \n",
       "3            238             238                                6211   \n",
       "4            220             234                                6172   \n",
       "\n",
       "   Wilderness_Area1  ...  Soil_Type29  Soil_Type30  Soil_Type31  Soil_Type32  \\\n",
       "0                 1  ...            1            0            0            0   \n",
       "1                 1  ...            1            0            0            0   \n",
       "2                 1  ...            0            0            0            0   \n",
       "3                 1  ...            0            1            0            0   \n",
       "4                 1  ...            1            0            0            0   \n",
       "\n",
       "   Soil_Type33  Soil_Type34  Soil_Type35  Soil_Type38  Soil_Type39  \\\n",
       "0            0            0            0            0            0   \n",
       "1            0            0            0            0            0   \n",
       "2            0            0            0            0            0   \n",
       "3            0            0            0            0            0   \n",
       "4            0            0            0            0            0   \n",
       "\n",
       "   Soil_Type40  \n",
       "0            0  \n",
       "1            0  \n",
       "2            0  \n",
       "3            0  \n",
       "4            0  \n",
       "\n",
       "[5 rows x 44 columns]"
      ]
     },
     "execution_count": 5,
     "metadata": {},
     "output_type": "execute_result"
    }
   ],
   "source": [
    "x.head()"
   ]
  },
  {
   "cell_type": "code",
   "execution_count": 6,
   "metadata": {},
   "outputs": [],
   "source": [
    "# Train-test split approach: 80% train, 10% val, 10% test\n",
    "x_train, x_test, y_train, y_test = train_test_split(x, y, test_size=0.1, random_state=0)\n",
    "x_train, x_val, y_train, y_val = train_test_split(x_train, y_train, test_size=0.125, random_state=0)"
   ]
  },
  {
   "cell_type": "code",
   "execution_count": 7,
   "metadata": {},
   "outputs": [],
   "source": [
    "x_train, x_test, y_train, y_test = train_test_split(x, y, test_size=0.1, random_state=0)"
   ]
  },
  {
   "cell_type": "code",
   "execution_count": 8,
   "metadata": {},
   "outputs": [],
   "source": [
    "# Cross-validation approach\n",
    "def cross_validate(classifier, x, y):\n",
    "    x = np.array(x)\n",
    "    y = np.array(y)\n",
    "    kf = KFold(n_splits=10)\n",
    "    kf.get_n_splits(x)\n",
    "    for i, (train_index, test_index) in enumerate(kf.split(x)):\n",
    "        print('Fold {}:'.format(i))\n",
    "        x_train, x_test = x[train_index], x[test_index]\n",
    "        y_train, y_test = y[train_index], y[test_index]\n",
    "        classifier.fit(x_train, y_train)\n",
    "        y_pred = classifier.predict(x_test)\n",
    "        evaluate_metrics(y_test, y_pred)\n",
    "        "
   ]
  },
  {
   "cell_type": "code",
   "execution_count": 9,
   "metadata": {},
   "outputs": [],
   "source": [
    "# Evaluation metrics\n",
    "def evaluate_metrics(y_test, y_pred):\n",
    "    print('Accuracy: {}'.format(metrics.accuracy_score(y_test, y_pred)))\n",
    "    print('Precision: {}'.format(metrics.precision_score(y_test, y_pred.round(), average=\"macro\")))\n",
    "    print('Recall: {}'.format(metrics.recall_score(y_test, y_pred.round(), average=\"macro\")))\n",
    "    print('F1-score: {}'.format(metrics.f1_score(y_test, y_pred.round(), average=\"macro\")))\n",
    "    print('Kappa score: {}'.format(metrics.cohen_kappa_score(y_test, y_pred)))"
   ]
  },
  {
   "cell_type": "code",
   "execution_count": 145,
   "metadata": {},
   "outputs": [
    {
     "name": "stdout",
     "output_type": "stream",
     "text": [
      "Accuracy: 0.8377680630615125\n",
      "Precision: 0.8959127365282116\n",
      "Recall: 0.713107693872595\n",
      "F1-score: 0.7648340838463767\n",
      "Kappa score: 0.7330027075386578\n",
      "Wall time: 1min 39s\n"
     ]
    }
   ],
   "source": [
    "%%time\n",
    "# Random Forest train test split\n",
    "rf = RandomForestClassifier(n_estimators=100, max_depth=15)\n",
    "rf.fit(x_train, y_train)\n",
    "y_pred = rf.predict(x_test)\n",
    "evaluate_metrics(y_test, y_pred)"
   ]
  },
  {
   "cell_type": "code",
   "execution_count": 146,
   "metadata": {},
   "outputs": [
    {
     "name": "stdout",
     "output_type": "stream",
     "text": [
      "Fold 0:\n",
      "Accuracy: 0.8291101719225106\n",
      "Precision: 0.8903734731397215\n",
      "Recall: 0.7052141572241044\n",
      "F1-score: 0.7565466970925836\n",
      "Kappa score: 0.7186297078606189\n",
      "Fold 1:\n",
      "Accuracy: 0.8307356906542235\n",
      "Precision: 0.8914490416494489\n",
      "Recall: 0.7156846773111237\n",
      "F1-score: 0.7637717564102037\n",
      "Kappa score: 0.7208022282830848\n",
      "Fold 2:\n",
      "Accuracy: 0.8332409018760398\n",
      "Precision: 0.8982843230702561\n",
      "Recall: 0.7096020746622121\n",
      "F1-score: 0.763077835294018\n",
      "Kappa score: 0.7255665223449563\n",
      "Fold 3:\n",
      "Accuracy: 0.8307739381537932\n",
      "Precision: 0.8949843993651302\n",
      "Recall: 0.7081372695281374\n",
      "F1-score: 0.7558050781401767\n",
      "Kappa score: 0.7209871848317171\n",
      "Fold 4:\n",
      "Accuracy: 0.8331835306266853\n",
      "Precision: 0.8959372046250497\n",
      "Recall: 0.6978528059476093\n",
      "F1-score: 0.751886215917999\n",
      "Kappa score: 0.7251723541456092\n",
      "Fold 5:\n",
      "Accuracy: 0.8331261593773307\n",
      "Precision: 0.8997776331734292\n",
      "Recall: 0.7103059483063224\n",
      "F1-score: 0.7631871517344545\n",
      "Kappa score: 0.7265949476794336\n",
      "Fold 6:\n",
      "Accuracy: 0.8296456369164866\n",
      "Precision: 0.8908122271618089\n",
      "Recall: 0.7024674930847742\n",
      "F1-score: 0.7492971217226906\n",
      "Kappa score: 0.719036401342243\n",
      "Fold 7:\n",
      "Accuracy: 0.8336807481210916\n",
      "Precision: 0.8969270662929374\n",
      "Recall: 0.7068209817823439\n",
      "F1-score: 0.759454672191637\n",
      "Kappa score: 0.7261138110140986\n",
      "Fold 8:\n",
      "Accuracy: 0.8317874968923906\n",
      "Precision: 0.8878821070674657\n",
      "Recall: 0.7055948445098529\n",
      "F1-score: 0.7544390616326867\n",
      "Kappa score: 0.7238174297406921\n",
      "Fold 9:\n",
      "Accuracy: 0.8349046681073224\n",
      "Precision: 0.8932388343799893\n",
      "Recall: 0.7138942411659358\n",
      "F1-score: 0.763032119856853\n",
      "Kappa score: 0.7283300797747456\n",
      "Wall time: 17min 45s\n"
     ]
    }
   ],
   "source": [
    "%%time\n",
    "#Random Forest 10-fold cross-validation\n",
    "cross_validate(RandomForestClassifier(n_estimators=100, max_depth=15, random_state=101), x_train, y_train)"
   ]
  },
  {
   "cell_type": "code",
   "execution_count": 144,
   "metadata": {},
   "outputs": [
    {
     "name": "stdout",
     "output_type": "stream",
     "text": [
      "[[0.92159113 0.90839549 0.89711226 0.90590935 0.90418818 0.9047619\n",
      "  0.90552687 0.90610059 0.91260279 0.9047619 ]\n",
      " [0.89950277 0.89041882 0.89701664 0.89347868 0.89118378 0.89615605\n",
      "  0.88908013 0.8912794  0.89252247 0.89137502]\n",
      " [0.89137502 0.8779244  0.88315165 0.88621151 0.88296041 0.88831517\n",
      "  0.88181297 0.87715943 0.87881685 0.88455409]\n",
      " [0.88372538 0.87516734 0.88123924 0.88042647 0.87043412 0.881048\n",
      "  0.87253777 0.8805699  0.88224326 0.88119143]\n",
      " [0.87431631 0.86880857 0.87592274 0.86834959 0.86888506 0.87347485\n",
      "  0.87278638 0.87645821 0.87412507 0.86796711]\n",
      " [0.87046599 0.86402754 0.86931854 0.8680436  0.86976477 0.87397208\n",
      "  0.87199592 0.87196405 0.8681711  0.86839421]\n",
      " [0.86662295 0.86348114 0.87364424 0.87066634 0.8704751  0.87145862\n",
      "  0.867907   0.86727864 0.86326257 0.86348114]\n",
      " [0.87320711 0.86574871 0.86627462 0.87136642 0.8684739  0.86677663\n",
      "  0.86620291 0.87256168 0.86995601 0.86770893]\n",
      " [0.86984977 0.86247636 0.87429081 0.86838359 0.86341132 0.8671299\n",
      "  0.86462251 0.86506874 0.86568496 0.86562122]\n",
      " [0.86607638 0.86234725 0.86154405 0.85869461 0.86248112 0.8664971\n",
      "  0.86502457 0.86280622 0.86619112 0.86020539]]\n",
      "[[0.75666839 0.77129582 0.76006885 0.76901893 0.76230637 0.76901893\n",
      "  0.76488812 0.77228916 0.76609294 0.76454389]\n",
      " [0.77852349 0.79108587 0.77986231 0.78399312 0.77969019 0.78227194\n",
      "  0.78227194 0.78967298 0.7827883  0.78055077]\n",
      " [0.78919291 0.79469971 0.78399312 0.79156627 0.78640275 0.78795181\n",
      "  0.79018933 0.7939759  0.78932874 0.79053356]\n",
      " [0.79521597 0.80640165 0.79414802 0.79879518 0.79053356 0.79328744\n",
      "  0.79277108 0.80636833 0.79879518 0.79827883]\n",
      " [0.79521597 0.80795044 0.79552496 0.80189329 0.79311532 0.79827883\n",
      "  0.79948365 0.8091222  0.79827883 0.79690189]\n",
      " [0.80278782 0.80795044 0.80086059 0.80585198 0.80258176 0.80447504\n",
      "  0.80671256 0.81256454 0.80585198 0.80378657]\n",
      " [0.80502495 0.81311306 0.80447504 0.80654045 0.80137694 0.80636833\n",
      "  0.8020654  0.81325301 0.80378657 0.80413081]\n",
      " [0.8125968  0.8153502  0.80120482 0.81204819 0.80516351 0.80292599\n",
      "  0.80550775 0.81893287 0.81049914 0.81273666]\n",
      " [0.81483394 0.81621064 0.80946644 0.81635112 0.80722892 0.80774527\n",
      "  0.80946644 0.81652324 0.81101549 0.81049914]\n",
      " [0.8139735  0.82102908 0.80447504 0.81135972 0.8091222  0.81118761\n",
      "  0.81256454 0.81635112 0.81480207 0.81135972]]\n"
     ]
    },
    {
     "data": {
      "image/png": "[encoded data removed]",
      "text/plain": [
       "<Figure size 432x288 with 1 Axes>"
      ]
     },
     "metadata": {
      "needs_background": "light"
     },
     "output_type": "display_data"
    }
   ],
   "source": [
    "%%time\n",
    "rf = RandomForestClassifier(n_estimators=100, max_depth=15)\n",
    "train_sizes, train_scores, test_scores = learning_curve(\n",
    "    estimator=rf, \n",
    "    X=x_test, y=y_test, \n",
    "    train_sizes=np.linspace(0.1,1,10), \n",
    "    cv=10, n_jobs = -1)\n",
    "\n",
    "print(train_scores)\n",
    "print(test_scores)\n",
    "\n",
    "train_mean = np.mean(train_scores, axis=1)\n",
    "train_std = np.std(train_scores, axis=1)\n",
    "test_mean = np.mean(test_scores, axis=1)\n",
    "test_std = np.std(test_scores, axis=1)\n",
    "\n",
    "plt.plot(train_sizes, train_mean,\n",
    "         color='green', marker='o',\n",
    "         markersize=5,label ='Training accuracy')\n",
    "\n",
    "plt.plot(train_sizes, test_mean, \n",
    "         color='purple', linestyle='--',\n",
    "         marker='s', markersize=5, \n",
    "         label='Validation accuracy')\n",
    "    \n",
    "plt.grid()\n",
    "plt.xlabel('Training samples')\n",
    "plt.ylabel('Accuracy')\n",
    "plt.legend(loc='lower right')\n",
    "plt.ylim([0.25, 1.01])\n",
    "plt.tight_layout()\n",
    "plt.savefig('RandomForest-CV-mean.png', dpi=300)\n",
    "plt.show()"
   ]
  },
  {
   "cell_type": "code",
   "execution_count": 156,
   "metadata": {},
   "outputs": [
    {
     "name": "stdout",
     "output_type": "stream",
     "text": [
      "[[1.         1.         1.         1.         1.         1.\n",
      "  1.         1.         1.         1.        ]\n",
      " [1.         1.         1.         1.         1.         1.\n",
      "  1.         1.         1.         1.        ]\n",
      " [1.         1.         1.         1.         1.         1.\n",
      "  1.         1.         1.         1.        ]\n",
      " [1.         1.         1.         1.         1.         1.\n",
      "  1.         1.         1.         1.        ]\n",
      " [1.         1.         1.         1.         1.         1.\n",
      "  0.99996175 1.         1.         1.        ]\n",
      " [1.         1.         1.         1.         0.99996813 1.\n",
      "  1.         1.         0.99996813 1.        ]\n",
      " [1.         1.         1.         1.         1.         1.\n",
      "  1.         1.         1.         1.        ]\n",
      " [1.         1.         1.         1.         1.         0.99995219\n",
      "  1.         1.         1.         1.        ]\n",
      " [1.         1.         1.         1.         1.         1.\n",
      "  0.99997875 1.         1.         1.        ]\n",
      " [1.         0.99998088 1.         1.         1.         1.\n",
      "  1.         1.         1.         1.        ]]\n",
      "[[0.78144898 0.80278782 0.78089501 0.78812392 0.78812392 0.79500861\n",
      "  0.79948365 0.8        0.79982788 0.78537005]\n",
      " [0.81775942 0.83049389 0.81273666 0.81910499 0.81807229 0.81807229\n",
      "  0.82185886 0.82753873 0.82908778 0.81669535]\n",
      " [0.83531234 0.8468422  0.83786575 0.84354561 0.83958692 0.83012048\n",
      "  0.84767642 0.85025818 0.84406196 0.83562823]\n",
      " [0.85028394 0.85888832 0.85215146 0.85387263 0.85387263 0.84681583\n",
      "  0.86299484 0.8616179  0.85232358 0.85060241]\n",
      " [0.85837205 0.87059026 0.85920826 0.86333907 0.85714286 0.85714286\n",
      "  0.86987952 0.8686747  0.86247849 0.8605852 ]\n",
      " [0.86852521 0.87936672 0.86815835 0.87228916 0.86901893 0.86660929\n",
      "  0.88003442 0.87951807 0.87521515 0.867642  ]\n",
      " [0.87730167 0.8850456  0.87383821 0.8746988  0.8767642  0.87194492\n",
      "  0.88330465 0.88141136 0.88003442 0.87624785]\n",
      " [0.88280847 0.88418517 0.88055077 0.88072289 0.87865749 0.87728055\n",
      "  0.89053356 0.88709122 0.88674699 0.88192771]\n",
      " [0.88814318 0.89124075 0.88416523 0.88915663 0.88158348 0.88037866\n",
      "  0.89104991 0.89139415 0.88881239 0.88450947]\n",
      " [0.89313371 0.89674755 0.89173838 0.89122203 0.89380379 0.88623064\n",
      "  0.89621343 0.89827883 0.89277108 0.88709122]]\n"
     ]
    },
    {
     "data": {
      "image/png": "[encoded data removed]",
      "text/plain": [
       "<Figure size 432x288 with 1 Axes>"
      ]
     },
     "metadata": {
      "needs_background": "light"
     },
     "output_type": "display_data"
    },
    {
     "name": "stdout",
     "output_type": "stream",
     "text": [
      "Wall time: 1min 57s\n"
     ]
    }
   ],
   "source": [
    "# Random Forest learning curve with no maximum depth set\n",
    "%%time\n",
    "rf = RandomForestClassifier(n_estimators=100)\n",
    "train_sizes, train_scores, test_scores = learning_curve(\n",
    "    estimator=rf, \n",
    "    X=x_test, y=y_test, \n",
    "    train_sizes=np.linspace(0.1,1,10), \n",
    "    cv=10, n_jobs = -1)\n",
    "\n",
    "print(train_scores)\n",
    "print(test_scores)\n",
    "\n",
    "train_mean = np.mean(train_scores, axis=1)\n",
    "train_std = np.std(train_scores, axis=1)\n",
    "test_mean = np.mean(test_scores, axis=1)\n",
    "test_std = np.std(test_scores, axis=1)\n",
    "\n",
    "plt.plot(train_sizes, train_mean,\n",
    "         color='green', marker='o',\n",
    "         markersize=5,label ='Training accuracy')\n",
    "\n",
    "plt.plot(train_sizes, test_mean, \n",
    "         color='purple', linestyle='--',\n",
    "         marker='s', markersize=5, \n",
    "         label='Validation accuracy')\n",
    "    \n",
    "plt.grid()\n",
    "plt.xlabel('Training samples')\n",
    "plt.ylabel('Accuracy')\n",
    "plt.legend(loc='lower right')\n",
    "plt.ylim([0.25, 1.01])\n",
    "plt.tight_layout()\n",
    "plt.savefig('RandomForest-CV-mean-no_max_depth.png', dpi=300)\n",
    "plt.show()"
   ]
  },
  {
   "cell_type": "code",
   "execution_count": 138,
   "metadata": {},
   "outputs": [
    {
     "name": "stdout",
     "output_type": "stream",
     "text": [
      "Accuracy: 0.9074558534990189\n",
      "Precision: 0.8808456508525637\n",
      "Recall: 0.8255396596589026\n",
      "F1-score: 0.850471193250642\n",
      "Kappa score: 0.8500288607640472\n",
      "Wall time: 6.1 s\n"
     ]
    }
   ],
   "source": [
    "%%time\n",
    "# Decision Tree train test split\n",
    "dt = DecisionTreeClassifier(max_depth=20)\n",
    "dt.fit(x_train, y_train)\n",
    "y_pred = dt.predict(x_test)\n",
    "evaluate_metrics(y_test, y_pred)"
   ]
  },
  {
   "cell_type": "code",
   "execution_count": 139,
   "metadata": {},
   "outputs": [
    {
     "name": "stdout",
     "output_type": "stream",
     "text": [
      "Fold 0:\n",
      "Accuracy: 0.9086075997781645\n",
      "Precision: 0.8879212410069297\n",
      "Recall: 0.8194157461056283\n",
      "F1-score: 0.8470860540002422\n",
      "Kappa score: 0.8518576655353086\n",
      "Fold 1:\n",
      "Accuracy: 0.9057964085597904\n",
      "Precision: 0.8762232028542201\n",
      "Recall: 0.8377496614132395\n",
      "F1-score: 0.8546629956049993\n",
      "Kappa score: 0.8472440029747351\n",
      "Fold 2:\n",
      "Accuracy: 0.9075940410395671\n",
      "Precision: 0.8812587414939484\n",
      "Recall: 0.8352493462050509\n",
      "F1-score: 0.8559458415456289\n",
      "Kappa score: 0.8506049481125796\n",
      "Fold 3:\n",
      "Accuracy: 0.9101183760111683\n",
      "Precision: 0.8925882036595418\n",
      "Recall: 0.8316172285768013\n",
      "F1-score: 0.8553108330055689\n",
      "Kappa score: 0.8539039968469362\n",
      "Fold 4:\n",
      "Accuracy: 0.9079573922854793\n",
      "Precision: 0.8807121696275545\n",
      "Recall: 0.829071738914404\n",
      "F1-score: 0.8510342368123398\n",
      "Kappa score: 0.8510563027081901\n",
      "Fold 5:\n",
      "Accuracy: 0.9059111510584995\n",
      "Precision: 0.8855839437909462\n",
      "Recall: 0.8287034173255615\n",
      "F1-score: 0.8536687562298652\n",
      "Kappa score: 0.8482333784312814\n",
      "Fold 6:\n",
      "Accuracy: 0.9077661547876308\n",
      "Precision: 0.8757662592739709\n",
      "Recall: 0.8279196219043687\n",
      "F1-score: 0.8487246784978001\n",
      "Kappa score: 0.8504155428689136\n",
      "Fold 7:\n",
      "Accuracy: 0.9079000210361248\n",
      "Precision: 0.8796826741898204\n",
      "Recall: 0.8349618879286543\n",
      "F1-score: 0.8548798949614793\n",
      "Kappa score: 0.8507444657553586\n",
      "Fold 8:\n",
      "Accuracy: 0.9073836797919336\n",
      "Precision: 0.8809458643603065\n",
      "Recall: 0.8352774725621107\n",
      "F1-score: 0.8555580769946067\n",
      "Kappa score: 0.8505511164274864\n",
      "Fold 9:\n",
      "Accuracy: 0.9096594060163317\n",
      "Precision: 0.880342895196448\n",
      "Recall: 0.8265229129133804\n",
      "F1-score: 0.848924788270067\n",
      "Kappa score: 0.8535101389300926\n",
      "Wall time: 1min 5s\n"
     ]
    }
   ],
   "source": [
    "%%time\n",
    "# Decision Tree 10-fold cross validation\n",
    "cross_validate(DecisionTreeClassifier(max_depth=20), x_train, y_train)"
   ]
  },
  {
   "cell_type": "code",
   "execution_count": 137,
   "metadata": {},
   "outputs": [
    {
     "name": "stdout",
     "output_type": "stream",
     "text": [
      "[[0.96090181 0.96510911 0.96515161 0.96510911 0.96523661 0.96527911\n",
      "  0.96506662 0.96525786 0.96515161 0.96506662]\n",
      " [0.94699489 0.96133782 0.95908545 0.95907483 0.95900046 0.95904295\n",
      "  0.95901108 0.95893671 0.95900046 0.95900046]\n",
      " [0.95116337 0.95386195 0.94665864 0.95600099 0.95590891 0.95596558\n",
      "  0.95594433 0.95590891 0.955916   0.95598683]\n",
      " [0.9506287  0.9503684  0.94389286 0.95203111 0.95485718 0.95490499\n",
      "  0.9549103  0.95488374 0.95488374 0.95490499]\n",
      " [0.95053313 0.94610491 0.94435402 0.9438653  0.94488524 0.94660638\n",
      "  0.94657663 0.94661913 0.94661488 0.94657663]\n",
      " [0.94051443 0.94266054 0.93826562 0.94431439 0.94380443 0.93925368\n",
      "  0.94581597 0.94577701 0.94579472 0.94576639]\n",
      " [0.94331473 0.94276226 0.94354846 0.94490534 0.94744    0.9426712\n",
      "  0.94391272 0.94448947 0.94447429 0.9444834 ]\n",
      " [0.94190361 0.94305635 0.94323962 0.94520246 0.94268715 0.94312541\n",
      "  0.94087836 0.94233655 0.94179737 0.94180799]\n",
      " [0.94544064 0.94361326 0.94126174 0.94437821 0.94431918 0.94436876\n",
      "  0.94561535 0.94446556 0.94295455 0.94342438]\n",
      " [0.94364018 0.94409915 0.94284974 0.94777729 0.94233127 0.94289223\n",
      "  0.94195517 0.94226115 0.94118172 0.94546332]]\n",
      "[[0.82851734 0.8233348  0.82641372 0.82346867 0.82381289 0.82427186\n",
      "  0.82358341 0.82429099 0.8214033  0.82450135]\n",
      " [0.85900059 0.8646421  0.86133369 0.86297833 0.85947869 0.86263411\n",
      "  0.86079823 0.86217514 0.86397277 0.86196477]\n",
      " [0.87741676 0.87751238 0.87517929 0.87818171 0.87393624 0.87512191\n",
      "  0.87682393 0.8783347  0.87724465 0.87934826]\n",
      " [0.88919699 0.88399533 0.88221683 0.88464554 0.88843204 0.88682565\n",
      "  0.88833643 0.8921803  0.88931174 0.88894838]\n",
      " [0.89571819 0.89227592 0.89101375 0.88850854 0.88801132 0.8905739\n",
      "  0.89149184 0.89325123 0.8909755  0.89254365]\n",
      " [0.89195081 0.89501061 0.89022968 0.89348071 0.89474288 0.89021055\n",
      "  0.89558433 0.89801304 0.89807041 0.8978218 ]\n",
      " [0.90091985 0.89780268 0.8990266  0.89988717 0.90132145 0.89730546\n",
      "  0.89715247 0.89960031 0.89931346 0.90157006]\n",
      " [0.90118758 0.90269836 0.90235413 0.90376929 0.89973418 0.90070949\n",
      "  0.89916047 0.90235413 0.90107284 0.90074774]\n",
      " [0.90929605 0.90606414 0.90327207 0.90430476 0.90575816 0.90357805\n",
      "  0.90833987 0.90696296 0.90543306 0.90455336]\n",
      " [0.90923868 0.90822512 0.90646574 0.91055822 0.90669522 0.90703945\n",
      "  0.90776615 0.90612151 0.90797652 0.90902832]]\n"
     ]
    },
    {
     "data": {
      "image/png": "[encoded data removed]",
      "text/plain": [
       "<Figure size 432x288 with 1 Axes>"
      ]
     },
     "metadata": {
      "needs_background": "light"
     },
     "output_type": "display_data"
    }
   ],
   "source": [
    "%%time\n",
    "dt = DecisionTreeClassifier(max_depth=20)\n",
    "\n",
    "train_sizes, train_scores, test_scores = learning_curve(\n",
    "    estimator=dt, \n",
    "    X=x_train, y=y_train, \n",
    "    train_sizes=np.linspace(0.1,1,10), \n",
    "    cv=10, n_jobs = -1)\n",
    "\n",
    "print(train_scores)\n",
    "print(test_scores)\n",
    "\n",
    "train_mean = np.mean(train_scores, axis=1)\n",
    "train_std = np.std(train_scores, axis=1)\n",
    "test_mean = np.mean(test_scores, axis=1)\n",
    "test_std = np.std(test_scores, axis=1)\n",
    "\n",
    "plt.plot(train_sizes, train_mean,\n",
    "         color='green', marker='o',\n",
    "         markersize=5,label ='Training accuracy')\n",
    "\n",
    "plt.plot(train_sizes, test_mean, \n",
    "         color='purple', linestyle='--',\n",
    "         marker='s', markersize=5, \n",
    "         label='Validation accuracy')\n",
    "\n",
    "plt.grid()\n",
    "plt.xlabel('Training samples')\n",
    "plt.ylabel('Accuracy')\n",
    "plt.legend(loc='lower right')\n",
    "plt.ylim([0.25, 1.01])\n",
    "plt.tight_layout()\n",
    "plt.savefig('DecisionTree-CV-mean.png', dpi=300)\n",
    "\n",
    "plt.show()"
   ]
  },
  {
   "cell_type": "code",
   "execution_count": 155,
   "metadata": {},
   "outputs": [
    {
     "name": "stdout",
     "output_type": "stream",
     "text": [
      "[[1. 1. 1. 1. 1. 1. 1. 1. 1. 1.]\n",
      " [1. 1. 1. 1. 1. 1. 1. 1. 1. 1.]\n",
      " [1. 1. 1. 1. 1. 1. 1. 1. 1. 1.]\n",
      " [1. 1. 1. 1. 1. 1. 1. 1. 1. 1.]\n",
      " [1. 1. 1. 1. 1. 1. 1. 1. 1. 1.]\n",
      " [1. 1. 1. 1. 1. 1. 1. 1. 1. 1.]\n",
      " [1. 1. 1. 1. 1. 1. 1. 1. 1. 1.]\n",
      " [1. 1. 1. 1. 1. 1. 1. 1. 1. 1.]\n",
      " [1. 1. 1. 1. 1. 1. 1. 1. 1. 1.]\n",
      " [1. 1. 1. 1. 1. 1. 1. 1. 1. 1.]]\n",
      "[[0.83392936 0.82708305 0.8275229  0.82662408 0.827848   0.82698744\n",
      "  0.82605037 0.82821136 0.82551491 0.82951177]\n",
      " [0.87504542 0.87387887 0.87162227 0.87234897 0.86816087 0.87177526\n",
      "  0.86990113 0.8704366  0.87097206 0.87129716]\n",
      " [0.89164483 0.89212293 0.89240978 0.89045916 0.88858503 0.88900576\n",
      "  0.89068865 0.89042091 0.89015318 0.89275401]\n",
      " [0.90640837 0.90403702 0.90508883 0.90464898 0.90539481 0.90501233\n",
      "  0.90306171 0.90505058 0.90325295 0.90472548]\n",
      " [0.91522442 0.91543478 0.91662045 0.91461246 0.91503318 0.91535828\n",
      "  0.91558777 0.91510967 0.9162571  0.91600849]\n",
      " [0.92296954 0.92268268 0.92281655 0.92142051 0.92254881 0.92168824\n",
      "  0.9220516  0.92249144 0.92143964 0.92115278]\n",
      " [0.92838156 0.92853455 0.9281712  0.92801821 0.92706202 0.92840068\n",
      "  0.92820944 0.92757836 0.92830506 0.92778872]\n",
      " [0.93023656 0.93316249 0.9322828  0.93302863 0.93119275 0.93262703\n",
      "  0.93109713 0.93306688 0.93092502 0.93214894]\n",
      " [0.93790518 0.93660477 0.93652827 0.93645178 0.93599281 0.93605018\n",
      "  0.93752271 0.93685338 0.93601193 0.93377445]\n",
      " [0.93972194 0.9403339  0.93939684 0.94165344 0.93939684 0.93878488\n",
      "  0.94044864 0.93838328 0.94086937 0.94008529]]\n"
     ]
    },
    {
     "data": {
      "image/png": "[encoded data removed]",
      "text/plain": [
       "<Figure size 432x288 with 1 Axes>"
      ]
     },
     "metadata": {
      "needs_background": "light"
     },
     "output_type": "display_data"
    },
    {
     "name": "stdout",
     "output_type": "stream",
     "text": [
      "Wall time: 1min 33s\n"
     ]
    }
   ],
   "source": [
    "# Decision Tree learning curve with no maximum depth set\n",
    "%%time\n",
    "train_sizes, train_scores, test_scores = learning_curve(\n",
    "    estimator=DecisionTreeClassifier(), \n",
    "    X=x_train, y=y_train, \n",
    "    train_sizes=np.linspace(0.1,1,10), \n",
    "    cv=10, n_jobs = -1)\n",
    "\n",
    "print(train_scores)\n",
    "print(test_scores)\n",
    "\n",
    "train_mean = np.mean(train_scores, axis=1)\n",
    "train_std = np.std(train_scores, axis=1)\n",
    "test_mean = np.mean(test_scores, axis=1)\n",
    "test_std = np.std(test_scores, axis=1)\n",
    "\n",
    "plt.plot(train_sizes, train_mean,\n",
    "         color='green', marker='o',\n",
    "         markersize=5,label ='Training accuracy')\n",
    "\n",
    "plt.plot(train_sizes, test_mean, \n",
    "         color='purple', linestyle='--',\n",
    "         marker='s', markersize=5, \n",
    "         label='Validation accuracy')\n",
    "\n",
    "plt.grid()\n",
    "plt.xlabel('Training samples')\n",
    "plt.ylabel('Accuracy')\n",
    "plt.legend(loc='lower right')\n",
    "plt.ylim([0.25, 1.01])\n",
    "plt.tight_layout()\n",
    "plt.savefig('DecisionTree-CV-mean-no_max_depth.png', dpi=300)\n",
    "plt.show()"
   ]
  },
  {
   "cell_type": "code",
   "execution_count": 160,
   "metadata": {},
   "outputs": [
    {
     "data": {
      "text/plain": [
       "Index(['Elevation', 'Aspect', 'Slope', 'Horizontal_Distance_To_Hydrology',\n",
       "       'Vertical_Distance_To_Hydrology', 'Horizontal_Distance_To_Roadways',\n",
       "       'Hillshade_9am', 'Hillshade_Noon', 'Horizontal_Distance_To_Fire_Points',\n",
       "       'Wilderness_Area1', 'Wilderness_Area2', 'Wilderness_Area3',\n",
       "       'Wilderness_Area4', 'Soil_Type1', 'Soil_Type2', 'Soil_Type3',\n",
       "       'Soil_Type4', 'Soil_Type5', 'Soil_Type6', 'Soil_Type9', 'Soil_Type10',\n",
       "       'Soil_Type11', 'Soil_Type12', 'Soil_Type13', 'Soil_Type16',\n",
       "       'Soil_Type17', 'Soil_Type18', 'Soil_Type19', 'Soil_Type20',\n",
       "       'Soil_Type22', 'Soil_Type23', 'Soil_Type24', 'Soil_Type26',\n",
       "       'Soil_Type27', 'Soil_Type29', 'Soil_Type30', 'Soil_Type31',\n",
       "       'Soil_Type32', 'Soil_Type33', 'Soil_Type34', 'Soil_Type35',\n",
       "       'Soil_Type38', 'Soil_Type39', 'Soil_Type40'],\n",
       "      dtype='object')"
      ]
     },
     "execution_count": 160,
     "metadata": {},
     "output_type": "execute_result"
    }
   ],
   "source": [
    "x.columns"
   ]
  },
  {
   "cell_type": "code",
   "execution_count": 10,
   "metadata": {},
   "outputs": [
    {
     "name": "stdout",
     "output_type": "stream",
     "text": [
      "Accuracy: 0.4538914323086985\n",
      "Precision: 0.3976481589433238\n",
      "Recall: 0.5946708755430044\n",
      "F1-score: 0.3673851316111521\n",
      "Kappa score: 0.25894401688020063\n",
      "Wall time: 873 ms\n"
     ]
    }
   ],
   "source": [
    "%%time\n",
    "# Naive Bayes train test split\n",
    "nb = GaussianNB()\n",
    "histogram = nb.fit(x_train, y_train)\n",
    "y_pred = nb.predict(x_test)\n",
    "y_probs = nb.predict_proba(x_test)\n",
    "evaluate_metrics(y_test, y_pred)"
   ]
  },
  {
   "cell_type": "code",
   "execution_count": 12,
   "metadata": {},
   "outputs": [
    {
     "data": {
      "image/png": "[encoded data removed]",
      "text/plain": [
       "<Figure size 432x288 with 2 Axes>"
      ]
     },
     "metadata": {
      "needs_background": "light"
     },
     "output_type": "display_data"
    },
    {
     "data": {
      "image/png": "[encoded data removed]",
      "text/plain": [
       "<Figure size 432x288 with 2 Axes>"
      ]
     },
     "metadata": {
      "needs_background": "light"
     },
     "output_type": "display_data"
    }
   ],
   "source": [
    "class_names = [1,2,3,4,5,6,7]\n",
    "\n",
    "disp = metrics.plot_confusion_matrix(nb, x_test, y_test,\n",
    "                                 display_labels=class_names,\n",
    "                                 cmap=plt.cm.Blues)\n",
    "disp.ax_.set_title('Confusion matrix, without normalization')\n",
    "plt.tight_layout()\n",
    "plt.savefig('NaiveBayes-ConfusionMatrix.png', dpi=300)\n",
    "plt.show()\n",
    "\n",
    "\n",
    "disp = metrics.plot_confusion_matrix(nb, x_test, y_test,\n",
    "                                 display_labels=class_names,\n",
    "                                 cmap=plt.cm.Blues,\n",
    "                                 normalize=normalize)\n",
    "disp.ax_.set_title('Normalized confusion matrix')\n",
    "plt.tight_layout()\n",
    "plt.savefig('NaiveBayes-ConfusionMatrix-normalized.png', dpi=300)\n",
    "plt.show()\n"
   ]
  },
  {
   "cell_type": "code",
   "execution_count": 152,
   "metadata": {},
   "outputs": [
    {
     "name": "stdout",
     "output_type": "stream",
     "text": [
      "Fold 0:\n",
      "Accuracy: 0.4570384961083169\n",
      "Precision: 0.39227739936781136\n",
      "Recall: 0.5916022311001968\n",
      "F1-score: 0.36308184240752356\n",
      "Kappa score: 0.260615130853629\n",
      "Fold 1:\n",
      "Accuracy: 0.45443766613757625\n",
      "Precision: 0.3957835057671857\n",
      "Recall: 0.5950528742195577\n",
      "F1-score: 0.36188676336935544\n",
      "Kappa score: 0.2567425695166855\n",
      "Fold 2:\n",
      "Accuracy: 0.4575739611022929\n",
      "Precision: 0.3897745026111651\n",
      "Recall: 0.5883205426468645\n",
      "F1-score: 0.3646246106802445\n",
      "Kappa score: 0.2611951133394753\n",
      "Fold 3:\n",
      "Accuracy: 0.45770782735078697\n",
      "Precision: 0.38948633649715353\n",
      "Recall: 0.5921011987887381\n",
      "F1-score: 0.36161949530479065\n",
      "Kappa score: 0.258947351228243\n",
      "Fold 4:\n",
      "Accuracy: 0.45730622860530495\n",
      "Precision: 0.3950273296115624\n",
      "Recall: 0.5873642290803952\n",
      "F1-score: 0.3614743918381369\n",
      "Kappa score: 0.26037240448906096\n",
      "Fold 5:\n",
      "Accuracy: 0.4561970511177832\n",
      "Precision: 0.39452343361210895\n",
      "Recall: 0.5846796904599916\n",
      "F1-score: 0.36318370384174503\n",
      "Kappa score: 0.26049238052036205\n",
      "Fold 6:\n",
      "Accuracy: 0.4554321011263889\n",
      "Precision: 0.3870478386898522\n",
      "Recall: 0.5885789932100779\n",
      "F1-score: 0.35736252448231637\n",
      "Kappa score: 0.2587419796743379\n",
      "Fold 7:\n",
      "Accuracy: 0.45158822741963245\n",
      "Precision: 0.3891842635839238\n",
      "Recall: 0.5777385319783466\n",
      "F1-score: 0.35371123286329414\n",
      "Kappa score: 0.2563683796473766\n",
      "Fold 8:\n",
      "Accuracy: 0.45602493736971944\n",
      "Precision: 0.3959201207939886\n",
      "Recall: 0.5828105880473444\n",
      "F1-score: 0.35903485868318186\n",
      "Kappa score: 0.25998691227072857\n",
      "Fold 9:\n",
      "Accuracy: 0.45529823487789484\n",
      "Precision: 0.3890736869540569\n",
      "Recall: 0.5845825741051349\n",
      "F1-score: 0.3611256529611779\n",
      "Kappa score: 0.2594250642574457\n"
     ]
    }
   ],
   "source": [
    "# Naive Bayes 10-fold cross validation\n",
    "cross_validate(GaussianNB(), x_train, y_train)"
   ]
  },
  {
   "cell_type": "code",
   "execution_count": 151,
   "metadata": {},
   "outputs": [
    {
     "name": "stdout",
     "output_type": "stream",
     "text": [
      "[[0.84991681 0.71102102 0.73488746 0.72895909 0.72886348 0.73020214\n",
      "  0.72987703 0.72934157 0.72991528 0.72991528]\n",
      " [0.82953089 0.74279513 0.69334111 0.73594882 0.73601576 0.7366564\n",
      "  0.73650341 0.73612094 0.73697195 0.73697195]\n",
      " [0.75694989 0.7262499  0.69293632 0.67311774 0.73929229 0.73973214\n",
      "  0.7396174  0.73936879 0.73975126 0.73975126]\n",
      " [0.54609302 0.56406456 0.49575931 0.55569314 0.68023178 0.70305119\n",
      "  0.70293645 0.70277868 0.70346714 0.70346714]\n",
      " [0.49271959 0.51901092 0.48209061 0.52575778 0.59746037 0.65479719\n",
      "  0.55614542 0.55420627 0.55474173 0.55470731]\n",
      " [0.49957609 0.51462329 0.48759825 0.525884   0.51841936 0.56723273\n",
      "  0.63998904 0.54787312 0.5499608  0.54964844]\n",
      " [0.47803911 0.46093428 0.4509189  0.4996025  0.51918522 0.49735136\n",
      "  0.61754686 0.52615992 0.52625008 0.52477482]\n",
      " [0.47572718 0.45012526 0.44419451 0.4778284  0.47521323 0.5027084\n",
      "  0.57027022 0.54862452 0.50154424 0.50473791]\n",
      " [0.49534337 0.45263366 0.45873838 0.48388187 0.49020758 0.51241025\n",
      "  0.58549272 0.54163559 0.51003466 0.48388399]\n",
      " [0.4501616  0.42546901 0.43792813 0.46146947 0.46248112 0.47212905\n",
      "  0.51832438 0.46289036 0.4486164  0.49437762]]\n"
     ]
    },
    {
     "data": {
      "image/png": "[encoded data removed]",
      "text/plain": [
       "<Figure size 432x288 with 1 Axes>"
      ]
     },
     "metadata": {
      "needs_background": "light"
     },
     "output_type": "display_data"
    }
   ],
   "source": [
    "nb = GaussianNB()\n",
    "train_sizes, train_scores, test_scores = learning_curve(\n",
    "    estimator=nb, \n",
    "    X=x, y=y, \n",
    "    train_sizes=np.linspace(0.1,1, 10), \n",
    "    cv=10, n_jobs = -1)\n",
    "print(train_scores)\n",
    "\n",
    "train_mean = np.mean(train_scores, axis=1)\n",
    "train_std = np.std(train_scores, axis=1)\n",
    "test_mean = np.mean(test_scores, axis=1)\n",
    "test_std = np.std(test_scores, axis=1)\n",
    "\n",
    "plt.plot(train_sizes, train_mean,\n",
    "         color='green', marker='o',\n",
    "         markersize = 5,label ='Training accuracy')\n",
    "\n",
    "plt.plot(train_sizes, test_mean, \n",
    "         color='purple', linestyle='--',\n",
    "         marker='s', markersize=5, \n",
    "         label='Validation accuracy')\n",
    "    \n",
    "plt.grid()\n",
    "plt.xlabel('Training samples')\n",
    "plt.ylabel('Accuracy')\n",
    "plt.legend(loc = 'lower right')\n",
    "plt.ylim([0.25, 1.01])\n",
    "plt.tight_layout()\n",
    "plt.savefig('NaiveBayes-CV-mean.png', dpi=300)\n",
    "plt.show()"
   ]
  },
  {
   "cell_type": "code",
   "execution_count": null,
   "metadata": {},
   "outputs": [],
   "source": []
  }
 ],
 "metadata": {
  "kernelspec": {
   "display_name": "Python 3",
   "language": "python",
   "name": "python3"
  },
  "language_info": {
   "codemirror_mode": {
    "name": "ipython",
    "version": 3
   },
   "file_extension": ".py",
   "mimetype": "text/x-python",
   "name": "python",
   "nbconvert_exporter": "python",
   "pygments_lexer": "ipython3",
   "version": "3.7.6"
  }
 },
 "nbformat": 4,
 "nbformat_minor": 4
}
