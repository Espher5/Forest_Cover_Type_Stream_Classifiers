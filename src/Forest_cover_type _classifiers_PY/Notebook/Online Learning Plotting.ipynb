{
 "cells": [
  {
   "cell_type": "code",
   "execution_count": 1,
   "metadata": {},
   "outputs": [],
   "source": [
    "import numpy as np\n",
    "import matplotlib.pyplot as plt\n",
    "%matplotlib notebook\n",
    "from skmultiflow.data import FileStream\n",
    "from skmultiflow.meta import AdaptiveRandomForestClassifier\n",
    "from skmultiflow.bayes import NaiveBayes\n",
    "from skmultiflow.trees import HoeffdingTreeClassifier\n",
    "from skmultiflow.evaluation import EvaluatePrequential\n",
    "from skmultiflow.drift_detection import ADWIN"
   ]
  },
  {
   "cell_type": "code",
   "execution_count": 4,
   "metadata": {},
   "outputs": [],
   "source": [
    "CSV_PATH = 'Dataset\\\\covtype.csv'\n",
    "MAX_SAMPLES = 581012"
   ]
  },
  {
   "cell_type": "code",
   "execution_count": 5,
   "metadata": {},
   "outputs": [
    {
     "name": "stdout",
     "output_type": "stream",
     "text": [
      "Prequential Evaluation\n",
      "Evaluating 1 target(s).\n",
      "Pre-training on 200 sample(s).\n",
      "Evaluating...\n",
      " #################### [100%] [10144.39s]\n",
      "Processed samples: 581011\n",
      "Mean performance:\n",
      "Adaptive Random Forest - Accuracy     : 0.9399\n",
      "Adaptive Random Forest - Kappa        : 0.9029\n",
      "Adaptive Random Forest - Precision: 0.7982\n",
      "Adaptive Random Forest - Recall: 0.7601\n",
      "Adaptive Random Forest - F1 score: 0.7775\n",
      "NaiveBayes - Accuracy     : 0.5762\n",
      "NaiveBayes - Kappa        : 0.2746\n",
      "NaiveBayes - Precision: 0.4334\n",
      "NaiveBayes - Recall: 0.3694\n",
      "NaiveBayes - F1 score: 0.3773\n",
      "HoeffdingTreeClassifier - Accuracy     : 0.8234\n",
      "HoeffdingTreeClassifier - Kappa        : 0.7146\n",
      "HoeffdingTreeClassifier - Precision: 0.6423\n",
      "HoeffdingTreeClassifier - Recall: 0.6238\n",
      "HoeffdingTreeClassifier - F1 score: 0.6313\n"
     ]
    },
    {
     "data": {
      "text/plain": [
       "[AdaptiveRandomForestClassifier(binary_split=False, disable_weighted_vote=False,\n",
       "                                drift_detection_method=ADWIN(delta=0.001),\n",
       "                                grace_period=50, lambda_value=6,\n",
       "                                leaf_prediction='nba', max_byte_size=33554432,\n",
       "                                max_features=7, memory_estimate_period=2000000,\n",
       "                                n_estimators=10, nb_threshold=0,\n",
       "                                no_preprune=False, nominal_attributes=None,\n",
       "                                performance_metric='acc', random_state=None,\n",
       "                                remove_poor_atts=False, split_confidence=0.01,\n",
       "                                split_criterion='info_gain',\n",
       "                                stop_mem_management=False, tie_threshold=0.05,\n",
       "                                warning_detection_method=ADWIN(delta=0.01)),\n",
       " NaiveBayes(nominal_attributes=None),\n",
       " HoeffdingTreeClassifier(binary_split=False, grace_period=200,\n",
       "                         leaf_prediction='nba', max_byte_size=33554432,\n",
       "                         memory_estimate_period=1000000, nb_threshold=0,\n",
       "                         no_preprune=False, nominal_attributes=None,\n",
       "                         remove_poor_atts=False, split_confidence=1e-07,\n",
       "                         split_criterion='info_gain', stop_mem_management=False,\n",
       "                         tie_threshold=0.05)]"
      ]
     },
     "execution_count": 5,
     "metadata": {},
     "output_type": "execute_result"
    }
   ],
   "source": [
    "stream = FileStream(CSV_PATH)\n",
    "rf = AdaptiveRandomForestClassifier()\n",
    "nb = NaiveBayes()\n",
    "ht = HoeffdingTreeClassifier()\n",
    "evaluator = EvaluatePrequential(show_plot=True, max_samples=MAX_SAMPLES,\n",
    "                                metrics=['accuracy', 'precision', 'recall', 'f1', 'kappa'])\n",
    "evaluator.evaluate(stream=stream, model=[rf, nb, ht],\n",
    "                   model_names=['Adaptive Random Forest', 'NaiveBayes', 'HoeffdingTreeClassifier'])\n",
    "    "
   ]
  },
  {
   "cell_type": "code",
   "execution_count": null,
   "metadata": {},
   "outputs": [],
   "source": []
  }
 ],
 "metadata": {
  "kernelspec": {
   "display_name": "Python 3",
   "language": "python",
   "name": "python3"
  },
  "language_info": {
   "codemirror_mode": {
    "name": "ipython",
    "version": 3
   },
   "file_extension": ".py",
   "mimetype": "text/x-python",
   "name": "python",
   "nbconvert_exporter": "python",
   "pygments_lexer": "ipython3",
   "version": "3.7.6"
  }
 },
 "nbformat": 4,
 "nbformat_minor": 4
}
